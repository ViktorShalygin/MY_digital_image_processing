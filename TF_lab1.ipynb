{
  "nbformat": 4,
  "nbformat_minor": 0,
  "metadata": {
    "colab": {
      "provenance": [],
      "authorship_tag": "ABX9TyO4LZXQZhwXqCTRnbb/gTXi",
      "include_colab_link": true
    },
    "kernelspec": {
      "name": "python3",
      "display_name": "Python 3"
    },
    "language_info": {
      "name": "python"
    }
  },
  "cells": [
    {
      "cell_type": "markdown",
      "metadata": {
        "id": "view-in-github",
        "colab_type": "text"
      },
      "source": [
        "<a href=\"https://colab.research.google.com/github/ViktorShalygin/MY_digital_image_processing/blob/main/TF_lab1.ipynb\" target=\"_parent\"><img src=\"https://colab.research.google.com/assets/colab-badge.svg\" alt=\"Open In Colab\"/></a>"
      ]
    },
    {
      "cell_type": "markdown",
      "source": [
        "Create a vector, scalar, matrix and tensor with values of your choosing using tf.constant().\n",
        "\n",
        "Find the shape, rank and size of the tensors you created in 1.\n",
        "\n",
        "Create two tensors containing random values between 0 and 1 with shape [5, 300].\n",
        "\n",
        "Multiply the two tensors you created in 3 using matrix multiplication.\n",
        "\n",
        "Multiply the two tensors you created in 3 using dot product.\n",
        "\n",
        "Create a tensor with random values between 0 and 1 with shape [224, 224, 3].\n",
        "\n",
        "Find the min and max values of the tensor you created in 6.\n",
        "\n",
        "Created a tensor with random values of shape [1, 224, 224, 3] then squeeze it to change the shape to [224, 224, 3].\n",
        "\n",
        "Create a tensor with shape [10] using your own choice of values, then find the index which has the maximum value.\n",
        "\n",
        "One-hot encode the tensor you created in 9."
      ],
      "metadata": {
        "id": "L7D6gpmSZe6R"
      }
    },
    {
      "cell_type": "markdown",
      "source": [
        "Create a vector, scalar, matrix and tensor with values of your choosing using tf.constant()."
      ],
      "metadata": {
        "id": "vWc2aVyDcZsr"
      }
    },
    {
      "cell_type": "code",
      "source": [
        "import numpy as np\n",
        "import tensorflow as tf\n",
        "print(tf.__version__)"
      ],
      "metadata": {
        "colab": {
          "base_uri": "https://localhost:8080/"
        },
        "id": "18VB1EycZir8",
        "outputId": "602fee13-af98-4643-9da2-ac5057aeebe8"
      },
      "execution_count": 44,
      "outputs": [
        {
          "output_type": "stream",
          "name": "stdout",
          "text": [
            "2.15.0\n"
          ]
        }
      ]
    },
    {
      "cell_type": "code",
      "source": [
        "scalar = tf.constant(7)\n",
        "scalar"
      ],
      "metadata": {
        "colab": {
          "base_uri": "https://localhost:8080/"
        },
        "id": "uc8j1cJMayD-",
        "outputId": "e8323ef8-707e-4cb9-d94c-9d9b4ba8de9d"
      },
      "execution_count": 4,
      "outputs": [
        {
          "output_type": "execute_result",
          "data": {
            "text/plain": [
              "<tf.Tensor: shape=(), dtype=int32, numpy=7>"
            ]
          },
          "metadata": {},
          "execution_count": 4
        }
      ]
    },
    {
      "cell_type": "code",
      "source": [
        "vector = tf.constant([5, 1])\n",
        "vector"
      ],
      "metadata": {
        "colab": {
          "base_uri": "https://localhost:8080/"
        },
        "id": "N78lDu0qa8gY",
        "outputId": "22f4be8a-1071-436e-d62d-a2682608f636"
      },
      "execution_count": 5,
      "outputs": [
        {
          "output_type": "execute_result",
          "data": {
            "text/plain": [
              "<tf.Tensor: shape=(2,), dtype=int32, numpy=array([5, 1], dtype=int32)>"
            ]
          },
          "metadata": {},
          "execution_count": 5
        }
      ]
    },
    {
      "cell_type": "code",
      "source": [
        "matrix = tf.constant([[1, 3],\n",
        "                      [7, 1],\n",
        "                      [8, 5]])\n",
        "matrix"
      ],
      "metadata": {
        "colab": {
          "base_uri": "https://localhost:8080/"
        },
        "id": "lNLVcqqDbJ2s",
        "outputId": "f153ea91-bd05-4880-e98d-90d0d6baa98f"
      },
      "execution_count": 6,
      "outputs": [
        {
          "output_type": "execute_result",
          "data": {
            "text/plain": [
              "<tf.Tensor: shape=(3, 2), dtype=int32, numpy=\n",
              "array([[1, 3],\n",
              "       [7, 1],\n",
              "       [8, 5]], dtype=int32)>"
            ]
          },
          "metadata": {},
          "execution_count": 6
        }
      ]
    },
    {
      "cell_type": "code",
      "source": [
        "tensor = tf.constant([[[1, 2, 3],\n",
        "                       [4, 5, 6]],\n",
        "                      [[7, 8, 9],\n",
        "                       [10, 11, 12]],\n",
        "                      [[13, 14, 15],\n",
        "                       [16, 17, 18]]])\n",
        "tensor"
      ],
      "metadata": {
        "colab": {
          "base_uri": "https://localhost:8080/"
        },
        "id": "FZEYrERmbx9W",
        "outputId": "7042a1d4-0605-4212-80e7-1df87b36574d"
      },
      "execution_count": 9,
      "outputs": [
        {
          "output_type": "execute_result",
          "data": {
            "text/plain": [
              "<tf.Tensor: shape=(3, 2, 3), dtype=int32, numpy=\n",
              "array([[[ 1,  2,  3],\n",
              "        [ 4,  5,  6]],\n",
              "\n",
              "       [[ 7,  8,  9],\n",
              "        [10, 11, 12]],\n",
              "\n",
              "       [[13, 14, 15],\n",
              "        [16, 17, 18]]], dtype=int32)>"
            ]
          },
          "metadata": {},
          "execution_count": 9
        }
      ]
    },
    {
      "cell_type": "markdown",
      "source": [],
      "metadata": {
        "id": "mQmakQFDccmH"
      }
    },
    {
      "cell_type": "markdown",
      "source": [
        "Find the shape, rank and size of the tensors you created in 1."
      ],
      "metadata": {
        "id": "yYF9fbcMcwrZ"
      }
    },
    {
      "cell_type": "code",
      "source": [
        "tensor.ndim #rank\n"
      ],
      "metadata": {
        "colab": {
          "base_uri": "https://localhost:8080/"
        },
        "id": "wApFhgO5b1NO",
        "outputId": "ef781ff7-5d36-46ff-972b-74e7169a5e67"
      },
      "execution_count": 13,
      "outputs": [
        {
          "output_type": "execute_result",
          "data": {
            "text/plain": [
              "3"
            ]
          },
          "metadata": {},
          "execution_count": 13
        }
      ]
    },
    {
      "cell_type": "code",
      "source": [
        "tf.size(tensor) #size\n"
      ],
      "metadata": {
        "colab": {
          "base_uri": "https://localhost:8080/"
        },
        "id": "DR0b7qzfb8qB",
        "outputId": "19dae401-2919-41ff-bdcb-bc1a83b4e56b"
      },
      "execution_count": 22,
      "outputs": [
        {
          "output_type": "execute_result",
          "data": {
            "text/plain": [
              "<tf.Tensor: shape=(), dtype=int32, numpy=18>"
            ]
          },
          "metadata": {},
          "execution_count": 22
        }
      ]
    },
    {
      "cell_type": "code",
      "source": [
        "tensor.shape #shape"
      ],
      "metadata": {
        "colab": {
          "base_uri": "https://localhost:8080/"
        },
        "id": "-nsjQ8aGeJPw",
        "outputId": "73ec4048-27e3-4288-aabe-a665acd5edb9"
      },
      "execution_count": 17,
      "outputs": [
        {
          "output_type": "execute_result",
          "data": {
            "text/plain": [
              "TensorShape([3, 2, 3])"
            ]
          },
          "metadata": {},
          "execution_count": 17
        }
      ]
    },
    {
      "cell_type": "markdown",
      "source": [
        "Create two tensors containing random values between 0 and 1 with shape [5, 300]."
      ],
      "metadata": {
        "id": "D4peHf4nflpk"
      }
    },
    {
      "cell_type": "code",
      "source": [
        "tensor1 = tf.random.uniform(shape=[5, 300], minval=0, maxval=1)\n",
        "tensor2 = tf.random.uniform(shape=[5, 300], minval=0, maxval=1)\n",
        "print(tensor1, tensor2, sep='\\n')"
      ],
      "metadata": {
        "colab": {
          "base_uri": "https://localhost:8080/"
        },
        "id": "C_fp-d22eQVn",
        "outputId": "79a8b7b1-7e23-4437-f71a-fa8d9eb83154"
      },
      "execution_count": 21,
      "outputs": [
        {
          "output_type": "stream",
          "name": "stdout",
          "text": [
            "tf.Tensor(\n",
            "[[0.27017355 0.98462486 0.5379813  ... 0.6644335  0.49912596 0.16380215]\n",
            " [0.6087185  0.8139142  0.02468777 ... 0.3055613  0.45964098 0.42416525]\n",
            " [0.868238   0.14700735 0.69728494 ... 0.48084962 0.60565305 0.35957217]\n",
            " [0.1113838  0.4235469  0.4465717  ... 0.28648794 0.18334317 0.14078045]\n",
            " [0.9644736  0.40748525 0.5974586  ... 0.19272459 0.7027103  0.71361494]], shape=(5, 300), dtype=float32)\n",
            "tf.Tensor(\n",
            "[[0.81534874 0.41775727 0.41344    ... 0.516852   0.43869781 0.19267058]\n",
            " [0.7772443  0.5537325  0.7444936  ... 0.5106145  0.54215086 0.8286394 ]\n",
            " [0.43758774 0.41548228 0.12439251 ... 0.251433   0.41673267 0.5675448 ]\n",
            " [0.80161    0.7325294  0.9054084  ... 0.751536   0.4714011  0.02271891]\n",
            " [0.9580276  0.3587829  0.5322788  ... 0.56958663 0.00265896 0.32259548]], shape=(5, 300), dtype=float32)\n"
          ]
        }
      ]
    },
    {
      "cell_type": "markdown",
      "source": [
        "Multiply the two tensors you created in 3 using matrix multiplication. (we cannot due to math rules)"
      ],
      "metadata": {
        "id": "gE8o5R_0fpxa"
      }
    },
    {
      "cell_type": "code",
      "source": [
        "tensor2 = tf.transpose(tensor2)\n",
        "mult_tensor = tensor1 @ tensor2\n",
        "print(mult_tensor)"
      ],
      "metadata": {
        "colab": {
          "base_uri": "https://localhost:8080/"
        },
        "id": "blJQbrCZfNXm",
        "outputId": "eea72bbc-c882-47d8-a9a3-eeed564cf18c"
      },
      "execution_count": 25,
      "outputs": [
        {
          "output_type": "stream",
          "name": "stdout",
          "text": [
            "tf.Tensor(\n",
            "[[77.12694  79.9969   78.840614 79.31313  74.49718 ]\n",
            " [76.36983  77.99393  75.8683   76.84995  71.753334]\n",
            " [74.77549  78.09977  75.67316  73.06801  73.30423 ]\n",
            " [75.72573  77.36978  75.37212  73.03517  76.38952 ]\n",
            " [78.13301  78.81376  79.43266  75.02978  77.4245  ]], shape=(5, 5), dtype=float32)\n"
          ]
        }
      ]
    },
    {
      "cell_type": "markdown",
      "source": [],
      "metadata": {
        "id": "gcaDF6WthVBq"
      }
    },
    {
      "cell_type": "markdown",
      "source": [
        "Multiply the two tensors you created in 3 using dot product."
      ],
      "metadata": {
        "id": "VTM45NmPhbNL"
      }
    },
    {
      "cell_type": "code",
      "source": [
        "tf.tensordot(tensor1, tensor2, axes = 1)"
      ],
      "metadata": {
        "colab": {
          "base_uri": "https://localhost:8080/"
        },
        "id": "A1bdEqC-gg6X",
        "outputId": "abf29928-b411-4cbd-ce8c-374d63dd197e"
      },
      "execution_count": 28,
      "outputs": [
        {
          "output_type": "execute_result",
          "data": {
            "text/plain": [
              "<tf.Tensor: shape=(5, 5), dtype=float32, numpy=\n",
              "array([[77.12694 , 79.9969  , 78.840614, 79.31313 , 74.49718 ],\n",
              "       [76.36983 , 77.99393 , 75.8683  , 76.84995 , 71.753334],\n",
              "       [74.77549 , 78.09977 , 75.67316 , 73.06801 , 73.30423 ],\n",
              "       [75.72573 , 77.36978 , 75.37212 , 73.03517 , 76.38952 ],\n",
              "       [78.13301 , 78.81376 , 79.43266 , 75.02978 , 77.4245  ]],\n",
              "      dtype=float32)>"
            ]
          },
          "metadata": {},
          "execution_count": 28
        }
      ]
    },
    {
      "cell_type": "markdown",
      "source": [
        "Create a tensor with random values between 0 and 1 with shape [224, 224, 3]."
      ],
      "metadata": {
        "id": "Fs1IQmWpiLxH"
      }
    },
    {
      "cell_type": "code",
      "source": [
        "  tensor_224_224_3 = tf.random.uniform(shape=[224, 224, 3], minval=0, maxval=1)\n",
        "  print(tensor_224_224_3)"
      ],
      "metadata": {
        "colab": {
          "base_uri": "https://localhost:8080/"
        },
        "id": "9KpERjpgh7zk",
        "outputId": "da07a8e8-5bec-41c6-97c9-3d71ee115d05"
      },
      "execution_count": 31,
      "outputs": [
        {
          "output_type": "stream",
          "name": "stdout",
          "text": [
            "tf.Tensor(\n",
            "[[[0.04326355 0.6590636  0.8226737 ]\n",
            "  [0.93935645 0.34841692 0.45878422]\n",
            "  [0.5275996  0.99055946 0.9056052 ]\n",
            "  ...\n",
            "  [0.3360076  0.74700344 0.4735266 ]\n",
            "  [0.6772361  0.2621106  0.45306432]\n",
            "  [0.7416823  0.1478355  0.09257209]]\n",
            "\n",
            " [[0.60004187 0.753142   0.6916717 ]\n",
            "  [0.92465913 0.31978655 0.6217489 ]\n",
            "  [0.42524922 0.8146876  0.54577696]\n",
            "  ...\n",
            "  [0.6422409  0.27796638 0.7040514 ]\n",
            "  [0.50572217 0.51653755 0.19215167]\n",
            "  [0.10917056 0.86190057 0.8494934 ]]\n",
            "\n",
            " [[0.46132433 0.3189745  0.6171372 ]\n",
            "  [0.8455447  0.5299792  0.00891459]\n",
            "  [0.58439016 0.58337927 0.80034864]\n",
            "  ...\n",
            "  [0.8894911  0.5584552  0.01263881]\n",
            "  [0.45589948 0.41735446 0.67573166]\n",
            "  [0.4402938  0.93663764 0.371683  ]]\n",
            "\n",
            " ...\n",
            "\n",
            " [[0.69191754 0.45309258 0.11777878]\n",
            "  [0.8658867  0.04063118 0.20742977]\n",
            "  [0.41866267 0.18981373 0.37876832]\n",
            "  ...\n",
            "  [0.7445648  0.49386787 0.5487753 ]\n",
            "  [0.4200251  0.55637145 0.33493185]\n",
            "  [0.23417032 0.15249848 0.75008297]]\n",
            "\n",
            " [[0.76057565 0.22820687 0.94405496]\n",
            "  [0.7692183  0.19676518 0.96741617]\n",
            "  [0.37712646 0.87384427 0.80964994]\n",
            "  ...\n",
            "  [0.7353538  0.6155664  0.04702306]\n",
            "  [0.49457216 0.48143137 0.6635865 ]\n",
            "  [0.05704963 0.33169794 0.0219332 ]]\n",
            "\n",
            " [[0.12890637 0.7694473  0.19784021]\n",
            "  [0.09393167 0.3374436  0.7074833 ]\n",
            "  [0.85065067 0.7228881  0.8118564 ]\n",
            "  ...\n",
            "  [0.4371258  0.5915842  0.17106187]\n",
            "  [0.2405417  0.23817062 0.52386594]\n",
            "  [0.5261228  0.17613041 0.72375214]]], shape=(224, 224, 3), dtype=float32)\n"
          ]
        }
      ]
    },
    {
      "cell_type": "markdown",
      "source": [
        "Create a tensor with shape [10] using your own choice of values, then find the index which has the maximum value."
      ],
      "metadata": {
        "id": "ZHjvM3i7ikK4"
      }
    },
    {
      "cell_type": "code",
      "source": [
        "tensor_10 = tf.constant(np.random.randint(low=0, high=100, size=10))\n",
        "tensor_10\n"
      ],
      "metadata": {
        "colab": {
          "base_uri": "https://localhost:8080/"
        },
        "id": "rADKxheCiRKM",
        "outputId": "d91aa329-6c49-4749-ea23-85b420b7a2ac"
      },
      "execution_count": 45,
      "outputs": [
        {
          "output_type": "execute_result",
          "data": {
            "text/plain": [
              "<tf.Tensor: shape=(10,), dtype=int64, numpy=array([94,  8, 59, 77, 16, 15,  5, 51, 90, 59])>"
            ]
          },
          "metadata": {},
          "execution_count": 45
        }
      ]
    },
    {
      "cell_type": "code",
      "source": [
        "print(f\"The maximum value of tensor_10 is at position: {tf.argmax(tensor_10).numpy()}\")\n",
        "print(f\"The maximum value of tensor_10 is: {tf.reduce_max(tensor_10).numpy()}\")"
      ],
      "metadata": {
        "colab": {
          "base_uri": "https://localhost:8080/"
        },
        "id": "UiHnvamVj1P2",
        "outputId": "b0602cef-9b9f-4307-d23c-2e7eb9e34ff2"
      },
      "execution_count": 48,
      "outputs": [
        {
          "output_type": "stream",
          "name": "stdout",
          "text": [
            "The maximum value of tensor_10 is at position: 0\n",
            "The maximum value of tensor_10 is: 94\n"
          ]
        }
      ]
    },
    {
      "cell_type": "markdown",
      "source": [
        "One-hot encode the tensor you created in 9."
      ],
      "metadata": {
        "id": "irKT4Z8EkAHE"
      }
    },
    {
      "cell_type": "code",
      "source": [
        "tf.one_hot(tensor_10, depth=10)"
      ],
      "metadata": {
        "colab": {
          "base_uri": "https://localhost:8080/"
        },
        "id": "shRNID1dj572",
        "outputId": "d46304b7-2f99-4807-d5eb-72edc1221d0d"
      },
      "execution_count": 52,
      "outputs": [
        {
          "output_type": "execute_result",
          "data": {
            "text/plain": [
              "<tf.Tensor: shape=(10, 10), dtype=float32, numpy=\n",
              "array([[0., 0., 0., 0., 0., 0., 0., 0., 0., 0.],\n",
              "       [0., 0., 0., 0., 0., 0., 0., 0., 1., 0.],\n",
              "       [0., 0., 0., 0., 0., 0., 0., 0., 0., 0.],\n",
              "       [0., 0., 0., 0., 0., 0., 0., 0., 0., 0.],\n",
              "       [0., 0., 0., 0., 0., 0., 0., 0., 0., 0.],\n",
              "       [0., 0., 0., 0., 0., 0., 0., 0., 0., 0.],\n",
              "       [0., 0., 0., 0., 0., 1., 0., 0., 0., 0.],\n",
              "       [0., 0., 0., 0., 0., 0., 0., 0., 0., 0.],\n",
              "       [0., 0., 0., 0., 0., 0., 0., 0., 0., 0.],\n",
              "       [0., 0., 0., 0., 0., 0., 0., 0., 0., 0.]], dtype=float32)>"
            ]
          },
          "metadata": {},
          "execution_count": 52
        }
      ]
    },
    {
      "cell_type": "code",
      "source": [],
      "metadata": {
        "id": "EvmTnwK9kYuy"
      },
      "execution_count": null,
      "outputs": []
    }
  ]
}