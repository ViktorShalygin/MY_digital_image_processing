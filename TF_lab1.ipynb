{
  "nbformat": 4,
  "nbformat_minor": 0,
  "metadata": {
    "colab": {
      "provenance": [],
      "authorship_tag": "ABX9TyNZCP7UaWJcNR+bhyVXm/3o",
      "include_colab_link": true
    },
    "kernelspec": {
      "name": "python3",
      "display_name": "Python 3"
    },
    "language_info": {
      "name": "python"
    }
  },
  "cells": [
    {
      "cell_type": "markdown",
      "metadata": {
        "id": "view-in-github",
        "colab_type": "text"
      },
      "source": [
        "<a href=\"https://colab.research.google.com/github/ViktorShalygin/MY_digital_image_processing/blob/main/TF_lab1.ipynb\" target=\"_parent\"><img src=\"https://colab.research.google.com/assets/colab-badge.svg\" alt=\"Open In Colab\"/></a>"
      ]
    },
    {
      "cell_type": "code",
      "execution_count": null,
      "metadata": {
        "id": "dObugnfRY2h2"
      },
      "outputs": [],
      "source": [
        "Create a vector, scalar, matrix and tensor with values of your choosing using tf.constant().\n",
        "Find the shape, rank and size of the tensors you created in 1.\n",
        "Create two tensors containing random values between 0 and 1 with shape [5, 300].\n",
        "Multiply the two tensors you created in 3 using matrix multiplication.\n",
        "Multiply the two tensors you created in 3 using dot product.\n",
        "Create a tensor with random values between 0 and 1 with shape [224, 224, 3].\n",
        "Find the min and max values of the tensor you created in 6.\n",
        "Created a tensor with random values of shape [1, 224, 224, 3] then squeeze it to change the shape to [224, 224, 3].\n",
        "Create a tensor with shape [10] using your own choice of values, then find the index which has the maximum value.\n",
        "One-hot encode the tensor you created in 9."
      ]
    },
    {
      "cell_type": "markdown",
      "source": [
        "# Новый раздел"
      ],
      "metadata": {
        "id": "dFjAtNZZY6ZT"
      }
    },
    {
      "cell_type": "markdown",
      "source": [],
      "metadata": {
        "id": "eTlPAfT0ZBYp"
      }
    },
    {
      "cell_type": "code",
      "source": [],
      "metadata": {
        "id": "h0AH_XheY42W"
      },
      "execution_count": null,
      "outputs": []
    }
  ]
}